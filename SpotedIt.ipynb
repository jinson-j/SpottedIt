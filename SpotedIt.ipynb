{
 "cells": [
  {
   "cell_type": "code",
   "execution_count": 1,
   "id": "129c6152-d92b-4f50-8937-9a86d2f5d984",
   "metadata": {},
   "outputs": [],
   "source": [
    "import cv2\n",
    "import random\n",
    "import logging as log\n",
    "\n",
    "log.basicConfig(filename='Logs/log.log', encoding='utf-8', level=log.DEBUG, format='%(asctime)s:  %(message)s', datefmt='%m/%d/%Y %I:%M:%S %p')\n",
    "log.warning('LOG HAS STARTED *//*//*//*//*//*//*//*//*//*//*//*//*//*//*//*//*//*//*//*//*//*//*//*//*//*//*//*//*//*//*//*//*//*//*//*//*//*//*//*//*//*//*//*//*//*//*//')"
   ]
  },
  {
   "cell_type": "code",
   "execution_count": 2,
   "id": "32cb1995-af40-44e6-9a9f-832b7271c07c",
   "metadata": {},
   "outputs": [],
   "source": [
    "imgBGRwithNoise = cv2.imread('Images/spot4.jpg')\n",
    "\n",
    "imgBGR = cv2.fastNlMeansDenoisingColored(imgBGRwithNoise, None, 3, 3, 7, 21)\n",
    "imgGRAY = cv2.cvtColor(imgBGR, cv2.COLOR_BGR2GRAY) # BGR to grayscale image\n",
    "ret, thresh = cv2.threshold(imgGRAY, 160, 255, cv2.THRESH_BINARY_INV) # Apply binary threshold\n",
    "\n",
    "log.basicConfig(format='%(asctime)s %(message)s', datefmt='%m/%d/%Y %I:%M:%S %p')\n",
    "log.info(\"THRESHOLDED IMAGE GENERATED\")"
   ]
  },
  {
   "cell_type": "code",
   "execution_count": 3,
   "id": "37296789-dffa-437a-901f-0267f51728b4",
   "metadata": {},
   "outputs": [],
   "source": [
    "cv2.imshow('Binary Image', thresh)\n",
    "cv2.imwrite('ModifiedImages/mod_img.jpg', thresh)\n",
    "\n",
    "log.basicConfig(format='%(asctime)s %(message)s', datefmt='%m/%d/%Y %I:%M:%S %p')\n",
    "log.info(\"THRESHOLDED IMAGE DISPLAYED\")"
   ]
  },
  {
   "cell_type": "code",
   "execution_count": 4,
   "id": "40004b50-2634-46ba-846b-ddb976b721c9",
   "metadata": {},
   "outputs": [],
   "source": [
    "imgBGRCopy = imgBGR.copy()\n",
    "contours, hierarchy = cv2.findContours(image=thresh, mode=cv2.RETR_TREE, method=cv2.CHAIN_APPROX_NONE)\n",
    "cv2.drawContours(image=imgBGRCopy, contours=contours, contourIdx=-1, color=(0, 255, 0), thickness=2, lineType=cv2.LINE_AA)\n",
    "\n",
    "log.basicConfig(format='%(asctime)s %(message)s', datefmt='%m/%d/%Y %I:%M:%S %p')\n",
    "log.info(\"ALL CONTOURS GENERATED\")"
   ]
  },
  {
   "cell_type": "code",
   "execution_count": 5,
   "id": "c2af088d-d9e0-4452-bc13-1a7451ef5e3f",
   "metadata": {},
   "outputs": [],
   "source": [
    "cv2.imshow('Found' + str(len(contours)) + \"contours using none approximation\", imgBGRCopy)\n",
    "cv2.imwrite('ModifiedImages/contours.jpg', imgBGRCopy)\n",
    "\n",
    "log.basicConfig(format='%(asctime)s %(message)s', datefmt='%m/%d/%Y %I:%M:%S %p')\n",
    "log.info(\"ALL CONTOURS DISPLAYED\")"
   ]
  },
  {
   "cell_type": "code",
   "execution_count": 6,
   "id": "4bcd884d-74ec-467a-be92-b25704f41ba6",
   "metadata": {},
   "outputs": [],
   "source": [
    "log.basicConfig(format='%(asctime)s %(message)s', datefmt='%m/%d/%Y %I:%M:%S %p')\n",
    "log.info(\"MATCHING...\")\n",
    "\n",
    "similarities = {}\n",
    "for contourIndex1 in range(len(contours)):\n",
    "\n",
    "    \n",
    "    log.debug(str(cv2.mean(contours[contourIndex1])))\n",
    "    for contourIndex2 in range(len(contours)):\n",
    "        \n",
    "        if contourIndex1 != contourIndex2 and cv2.contourArea(contours[contourIndex1]) > 30 and cv2.contourArea(contours[contourIndex2]) > 30: # removed and abs(cv2.mean(contours[contourIndex1])[1] - cv2.mean(contours[contourIndex2])[1]) < 21\n",
    "            similarities[cv2.matchShapes(contours[contourIndex1],contours[contourIndex2],1,0.0)] = (contourIndex1, contourIndex2)\n",
    "\n",
    "minSimilarity = min(similarities)\n",
    "log.debug(str(minSimilarity))\n",
    "\n",
    "imgBGRCopy = imgBGR.copy()\n",
    "for matches in similarities:\n",
    "    if matches < 0.05:     \n",
    "        myColor = (random.randint(0,255), random.randint(0,255), random.randint(0,255))\n",
    "        cv2.drawContours(image=imgBGRCopy, contours=contours, contourIdx=similarities[matches][0], color=myColor, thickness=2, lineType=cv2.LINE_AA) \n",
    "        cv2.drawContours(image=imgBGRCopy, contours=contours, contourIdx=similarities[matches][1], color=myColor, thickness=2, lineType=cv2.LINE_AA)\n",
    "\n",
    "log.basicConfig(format='%(asctime)s %(message)s', datefmt='%m/%d/%Y %I:%M:%S %p')\n",
    "log.info(\"MATCHING CONTOURS GENERATED\")"
   ]
  },
  {
   "cell_type": "code",
   "execution_count": 7,
   "id": "0b8a416e-6bf0-4603-96ca-a25d6b20bc94",
   "metadata": {},
   "outputs": [],
   "source": [
    "cv2.imshow('None Approximation', imgBGRCopy)\n",
    "cv2.imwrite('ModifiedImages/contours.jpg', imgBGRCopy)\n",
    "\n",
    "\n",
    "log.basicConfig(format='%(asctime)s %(message)s', datefmt='%m/%d/%Y %I:%M:%S %p')\n",
    "log.info(\"MATCHING CONTOURS DISPLAYED\")\n",
    "\n",
    "\n",
    "cv2.waitKey(0)\n",
    "cv2.destroyAllWindows()"
   ]
  }
 ],
 "metadata": {
  "kernelspec": {
   "display_name": "Python 3 (ipykernel)",
   "language": "python",
   "name": "python3"
  },
  "language_info": {
   "codemirror_mode": {
    "name": "ipython",
    "version": 3
   },
   "file_extension": ".py",
   "mimetype": "text/x-python",
   "name": "python",
   "nbconvert_exporter": "python",
   "pygments_lexer": "ipython3",
   "version": "3.11.7"
  }
 },
 "nbformat": 4,
 "nbformat_minor": 5
}
